{
 "cells": [
  {
   "cell_type": "markdown",
   "id": "e1ee18c7-617a-4555-bf6b-9555b51ca864",
   "metadata": {},
   "source": [
    "![QF-Logo](https://quantumformalism.academy/img/qf-up.png)"
   ]
  },
  {
   "cell_type": "markdown",
   "id": "bbc2f1cf-fd46-4456-8d6e-a3d8f06ab15a",
   "metadata": {
    "editable": false,
    "slideshow": {
     "slide_type": ""
    },
    "tags": []
   },
   "source": [
    "# The Matrix Exponential and Matrix Lie Groups\n",
    "### Interactive Exploration of the Exponential Map\n",
    "This notebook supplements **Lecture 1: The Matrix Exponential**, where we introduced:\n",
    "\n",
    "- The **definition and properties** of matrix Lie groups\n",
    "- The **matrix exponential** as a bridge between Lie algebras and Lie groups\n",
    "- Methods for **computing** the matrix exponential in various contexts\n",
    "\n",
    "### What You Will Learn\n",
    "- How to compute the **matrix exponential** numerically\n",
    "- How to **visualize matrix Lie groups** through their action on vectors\n",
    "- The role of the **exponential map** in Lie group structure\n",
    "\n",
    "Use the interactive elements to see **how different matrices exponentiate** and explore their properties dynamically!"
   ]
  },
  {
   "cell_type": "markdown",
   "id": "f1a00854-9b2f-4b4c-9daf-37f1347597fd",
   "metadata": {
    "editable": false,
    "slideshow": {
     "slide_type": ""
    },
    "tags": []
   },
   "source": [
    "## What Are Matrix Lie Groups?\n",
    "A **matrix Lie group** is a group of invertible matrices that is also a smooth manifold. Examples include:\n",
    "\n",
    "- The **general linear group** $GL(n, \\mathbb{R})$, the space of all invertible \\(n \\times n\\) matrices\n",
    "- The **special linear group** $SL(n, \\mathbb{R})$, where matrices have determinant 1\n",
    "- The **orthogonal group** $O(n)$, preserving Euclidean inner products\n",
    "- The **unitary group** $U(n)$, preserving complex inner products\n",
    "\n",
    "### Why This Matters\n",
    "Lie groups appear **naturally** in physics, machine learning, and differential geometry. The **exponential map** lets us move from the Lie algebra (tangent space at the identity) to the group itself, making it a powerful computational tool.\n",
    "\n",
    "Let's start by defining some fundamental matrix Lie groups in code."
   ]
  },
  {
   "cell_type": "code",
   "execution_count": 12,
   "id": "fb6d7e9a-d626-4327-a270-19b1862cfce1",
   "metadata": {
    "editable": false,
    "slideshow": {
     "slide_type": ""
    },
    "tags": []
   },
   "outputs": [],
   "source": [
    "import numpy as np # For linear algebra \n",
    "from scipy.linalg import expm # Function for computing matrix exponentials\n",
    "import matplotlib.pyplot as plt # For visualizations\n",
    "from ipywidgets import interactive, fixed\n",
    "import ipywidgets as widgets\n",
    "from IPython.display import display, HTML\n",
    "%matplotlib inline\n",
    "plt.style.use('seaborn-v0_8')"
   ]
  },
  {
   "cell_type": "markdown",
   "id": "8e5f45fa-19bc-4496-95da-d7c98cd534d0",
   "metadata": {
    "editable": false,
    "slideshow": {
     "slide_type": ""
    },
    "tags": []
   },
   "source": [
    "## The Matrix Exponential: Connecting Lie Algebras to Lie Groups\n",
    "The **matrix exponential** plays a crucial role in Lie theory, solving equations of the form:\n",
    "\n",
    "$$\n",
    "\\frac{d}{dt} X(t) = A X(t), \\quad X(0) = I\n",
    "$$\n",
    "\n",
    "For a matrix $A$, we define the matrix exponential by the power series:\n",
    "\n",
    "$$\n",
    "e^A = \\exp(A) = I + A + \\frac{A^2}{2!} + \\frac{A^3}{3!} + \\dots\n",
    "$$\n",
    "\n",
    "This series always **converges** for square matrices, providing a way to compute smooth deformations of matrices."
   ]
  },
  {
   "cell_type": "markdown",
   "id": "79e3a1c4-303f-4b94-884e-33c90ba9c686",
   "metadata": {
    "editable": false,
    "slideshow": {
     "slide_type": ""
    },
    "tags": []
   },
   "source": [
    "## Computing the Matrix Exponential\n",
    "There are multiple ways to compute $e^A$:\n",
    "\n",
    "1. **Power Series Expansion**: Truncating the infinite sum above.\n",
    "2. **Diagonalization**: If $A = C D C^{-1}$ where $D$ is diagonal, then $e^A = C e^D C^{-1}$.\n",
    "3. **The Jordan Form Approach**: Generalizing diagonalization to Jordan blocks.\n",
    "4. **Built-in Numerical Methods**: The `scipy.linalg.expm` function efficiently computes $e^A$ numerically.\n",
    "\n",
    "Let's compute the matrix exponential of a few matrices numerically:"
   ]
  },
  {
   "cell_type": "markdown",
   "id": "ab7db4ff-646c-4f57-bc61-3058562045e7",
   "metadata": {
    "editable": false,
    "slideshow": {
     "slide_type": ""
    },
    "tags": []
   },
   "source": [
    "## Visualizing One-Parameter Subgroups\n",
    "One key property of the matrix exponential is that it generates **one-parameter subgroups**:\n",
    "\n",
    "$$\n",
    "X(t) = e^{tA}\n",
    "$$\n",
    "\n",
    "For example:\n",
    "- If $A$ is skew-symmetric, $ e^{tA} $ generates **rotations** in $SO(n)$.\n",
    "- If $A$ is nilpotent, $e^{tA}$ generates **shears**.\n",
    "\n",
    "### What This Plot Shows:\n",
    "- A set of **basis vectors** transformed by $e^{tA}$.\n",
    "- How the exponential behaves for different types of matrices.\n",
    "- An **interactive slider** to modify $t$ and observe the changes dynamically.\n",
    "\n",
    "Use the sliders to explore how the matrix exponential evolves over time!"
   ]
  },
  {
   "cell_type": "markdown",
   "id": "8da3a2fc-354a-452d-b6fc-63369d98d7af",
   "metadata": {
    "editable": false,
    "slideshow": {
     "slide_type": ""
    },
    "tags": []
   },
   "source": [
    "## Special Cases of the Matrix Exponential\n",
    "The structure of $A$ affects how $e^A$ behaves:\n",
    "\n",
    "1. **Skew-Symmetric Matrices $A^T = -A$)**  \n",
    "   - Example: $\\begin{pmatrix} 0 & -1 \\\\ 1 & 0 \\end{pmatrix}$\n",
    "   - $e^A$ produces **rotations**.\n",
    "\n",
    "2. **Nilpotent Matrices ($A^k = 0$ for some $k$)**  \n",
    "   - Example: $\\begin{pmatrix} 0 & 1 \\\\ 0 & 0 \\end{pmatrix}$ \n",
    "   - $e^A$ produces **shears**.\n",
    "\n",
    "3. **Diagonal Matrices ($A = \\text{diag}(\\lambda_1, \\lambda_2, ...)$)**  \n",
    "   - Example: $\\begin{pmatrix} 1 & 0 \\\\ 0 & -1 \\end{pmatrix}$\n",
    "   - $e^A$ acts **element-wise** on eigenvalues.\n",
    "\n",
    "Let's investigate these cases numerically!"
   ]
  },
  {
   "cell_type": "markdown",
   "id": "8540f2fa-a87d-4334-ac70-b0f011aa6254",
   "metadata": {
    "editable": false,
    "slideshow": {
     "slide_type": ""
    },
    "tags": []
   },
   "source": [
    "## Part 1: The Special Orthogonal Group SO(2)\n",
    "\n",
    "$SO(2)$ consists of all $2 \\times 2$ rotation matrices. These matrices have the form:\n",
    "\n",
    "$R(\\theta) = \\begin{pmatrix} \n",
    "\\cos(\\theta) & -\\sin(\\theta) \\\\\n",
    "\\sin(\\theta) & \\cos(\\theta)\n",
    "\\end{pmatrix} = \\exp \\left ( \\theta \\begin{pmatrix} 0 & -1 \\\\ 1 & 0 \\end{pmatrix} \\right )$\n",
    "\n",
    "for $\\theta \\in \\mathbb{R}$. Let's create functions to work with these matrices:"
   ]
  },
  {
   "cell_type": "code",
   "execution_count": 4,
   "id": "2e11c3cc-fc5a-470e-bd6b-8a96dbb856a7",
   "metadata": {
    "editable": false,
    "slideshow": {
     "slide_type": ""
    },
    "tags": []
   },
   "outputs": [],
   "source": [
    "def rotation_matrix(theta):\n",
    "    \"\"\"Generate a 2D rotation matrix for angle theta (in radians)\"\"\"\n",
    "    c, s = np.cos(theta), np.sin(theta)\n",
    "    return np.array([[c, -s], [s, c]])\n"
   ]
  },
  {
   "cell_type": "markdown",
   "id": "cd81c936-7f4e-46ec-a83a-60a0d3669f7a",
   "metadata": {
    "editable": false,
    "slideshow": {
     "slide_type": ""
    },
    "tags": []
   },
   "source": [
    "Now let's create an interactive visualization of $SO(2)$ rotations:"
   ]
  },
  {
   "cell_type": "code",
   "execution_count": 5,
   "id": "ccb9cc0f-04ea-4413-b70f-cd8e26b1c0a6",
   "metadata": {
    "editable": false,
    "slideshow": {
     "slide_type": ""
    },
    "tags": []
   },
   "outputs": [],
   "source": [
    "## NEEDED FOR VISUALIZATION. DO NOT MODIFY\n",
    "def transform_points(points, matrix):\n",
    "    \"\"\"Transform a set of points by a matrix\"\"\"\n",
    "    return np.dot(points, matrix.T)\n",
    "\n",
    "def generate_grid_points(n_points=5, scale=2):\n",
    "    \"\"\"Generate a grid of points for visualization\"\"\"\n",
    "    x = np.linspace(-scale, scale, n_points)\n",
    "    xx, yy = np.meshgrid(x, x)\n",
    "    return np.column_stack((xx.ravel(), yy.ravel()))\n",
    "\n",
    "def plot_rotation(angle_degrees):\n",
    "    # Convert degrees to radians\n",
    "    theta = np.radians(angle_degrees)\n",
    "    \n",
    "    # Generate points and transform them\n",
    "    points = generate_grid_points()\n",
    "    R = rotation_matrix(theta)\n",
    "    transformed_points = transform_points(points, R)\n",
    "    \n",
    "    # Create plot\n",
    "    fig, ax = plt.subplots(figsize=(10, 10))\n",
    "    \n",
    "    # Plot original points\n",
    "    ax.scatter(points[:, 0], points[:, 1], c='blue', alpha=0.5, label='Original')\n",
    "    \n",
    "    # Plot transformed points\n",
    "    ax.scatter(transformed_points[:, 0], transformed_points[:, 1], \n",
    "              c='red', alpha=0.5, label='Rotated')\n",
    "    \n",
    "    # Draw lines connecting original to transformed points\n",
    "    for p1, p2 in zip(points, transformed_points):\n",
    "        ax.plot([p1[0], p2[0]], [p1[1], p2[1]], 'gray', alpha=0.3)\n",
    "    \n",
    "    # Add unit circle\n",
    "    circle = plt.Circle((0, 0), 1, fill=False, color='black')\n",
    "    ax.add_artist(circle)\n",
    "    \n",
    "    # Add coordinate axes\n",
    "    ax.axhline(y=0, color='k', linestyle='--', alpha=0.3)\n",
    "    ax.axvline(x=0, color='k', linestyle='--', alpha=0.3)\n",
    "    \n",
    "    # Set plot properties\n",
    "    ax.set_xlim(-3, 3)\n",
    "    ax.set_ylim(-3, 3)\n",
    "    ax.set_aspect('equal')\n",
    "    ax.grid(True, alpha=0.3)\n",
    "    ax.set_title(f'SO(2) Rotation by {angle_degrees}°')\n",
    "    ax.legend()\n",
    "    \n",
    "    # Display the rotation matrix\n",
    "    matrix_str = f\"Rotation Matrix R({angle_degrees}°) = \\n{R.round(3)}\"\n",
    "    plt.figtext(0.02, 0.02, matrix_str, fontsize=10, family='monospace')\n",
    "    \n",
    "    plt.show()\n",
    "\n",
    "# Create interactive widget\n",
    "interactive_plot = interactive(\n",
    "    plot_rotation,\n",
    "    angle_degrees=widgets.FloatSlider(\n",
    "        min=0, max=360, step=5, value=0,\n",
    "        description='Angle (°):'\n",
    "    )\n",
    ")\n"
   ]
  },
  {
   "cell_type": "code",
   "execution_count": 6,
   "id": "7cdc569f-775a-465d-a5e2-2f52df4df716",
   "metadata": {
    "editable": false,
    "slideshow": {
     "slide_type": ""
    },
    "tags": []
   },
   "outputs": [
    {
     "data": {
      "application/vnd.jupyter.widget-view+json": {
       "model_id": "5dcd14a91ccf4b36b1b6ed11e010ffa3",
       "version_major": 2,
       "version_minor": 0
      },
      "text/plain": [
       "interactive(children=(FloatSlider(value=0.0, description='Angle (°):', max=360.0, step=5.0), Output(outputs=({…"
      ]
     },
     "metadata": {},
     "output_type": "display_data"
    }
   ],
   "source": [
    "display(interactive_plot)"
   ]
  },
  {
   "cell_type": "markdown",
   "id": "7e9fe118-3126-4ccc-912f-d1ccdadc3172",
   "metadata": {
    "editable": false,
    "slideshow": {
     "slide_type": ""
    },
    "tags": []
   },
   "source": [
    "## Part 2: The Special Linear Group SL(2,R)\n",
    "\n",
    "$SL(2,\\mathbb{R})$ consists of $2 \\times 2$ matrices with determinant 1. These matrices preserve *oriented area* but not necessarily distances or angles. We can parameterize some important subgroups of $SL(2,\\mathbb{R})$:\n",
    "\n",
    "1. The one-parameter subgroup of \"diagonal boosts\", $D(t) = \\begin{pmatrix} \n",
    "\\exp(t) & 0 \\\\\n",
    "0 & \\exp(-t)\n",
    "\\end{pmatrix} = \\exp \\left (t \\begin{pmatrix} 1 & 0 \\\\ 0 & -1 \\end{pmatrix} \\right )$\n",
    "\n",
    "2. The one-parameter subgroup of \"shear transformations\", $S(t) = \\begin{pmatrix} 1 & t \\\\ 0 & 1 \\end{pmatrix} = \\exp \\left (t \\begin{pmatrix} 0 & 1 \\\\ 0 & 0 \\end{pmatrix} \\right )$"
   ]
  },
  {
   "cell_type": "code",
   "execution_count": 8,
   "id": "caea707b-d05d-4443-8e31-9fe8acbf1789",
   "metadata": {
    "editable": false,
    "slideshow": {
     "slide_type": ""
    },
    "tags": []
   },
   "outputs": [],
   "source": [
    "def sl2_diagonal(t):\n",
    "    \"\"\"Diagonal boosts in SL(2,R)\"\"\"\n",
    "    return np.array([[np.exp(t), 0], [0, np.exp(-t)]])\n",
    "\n",
    "def sl2_shear(t):\n",
    "    \"\"\"Shear transformations in SL(2,R)\"\"\"\n",
    "    return np.array([[1, t], [0, 1]])"
   ]
  },
  {
   "cell_type": "code",
   "execution_count": 9,
   "id": "67934428-f062-4665-bcc6-cbe456b310c5",
   "metadata": {
    "editable": false,
    "slideshow": {
     "slide_type": ""
    },
    "tags": []
   },
   "outputs": [],
   "source": [
    "## NEEDED FOR VISUALIZATION. DO NOT MODIFY\n",
    "\n",
    "def generate_unit_square():\n",
    "    \"\"\"Generate vertices of a unit square\"\"\"\n",
    "    return np.array([[0, 0], [1, 0], [1, 1], [0, 1], [0, 0]])\n",
    "\n",
    "def generate_grid(n=10, scale=2):\n",
    "    \"\"\"Generate a grid of points\"\"\"\n",
    "    x = np.linspace(-scale, scale, n)\n",
    "    y = np.linspace(-scale, scale, n)\n",
    "    xx, yy = np.meshgrid(x, y)\n",
    "    return np.column_stack((xx.ravel(), yy.ravel()))\n",
    "\n",
    "# Modified plotting function\n",
    "def plot_sl2_transformation(transform_type, param, show_grid=True):\n",
    "    # Get appropriate transformation matrix\n",
    "    if transform_type == 'diagonal':\n",
    "        matrix = sl2_diagonal(param)\n",
    "        title = f'SL(2,R) Diagonal: t = {param:.2f}'\n",
    "    else:  # shear\n",
    "        matrix = sl2_shear(param)\n",
    "        title = f'SL(2,R) Shear: t = {param:.2f}'\n",
    "    \n",
    "    # Clear any existing plots\n",
    "    plt.clf()\n",
    "    \n",
    "    # Create plot\n",
    "    fig = plt.figure(figsize=(10, 10))\n",
    "    ax = fig.add_subplot(111)\n",
    "    \n",
    "    # Plot grid\n",
    "    if show_grid:\n",
    "        points = generate_grid()\n",
    "        transformed_points = points @ matrix.T\n",
    "        ax.scatter(points[:, 0], points[:, 1], c='blue', alpha=0.2, s=10)\n",
    "        ax.scatter(transformed_points[:, 0], transformed_points[:, 1], \n",
    "                  c='red', alpha=0.2, s=10)\n",
    "    \n",
    "    # Plot unit square\n",
    "    square = generate_unit_square()\n",
    "    transformed_square = square @ matrix.T\n",
    "    \n",
    "    ax.plot(square[:, 0], square[:, 1], 'b-', label='Original', linewidth=2)\n",
    "    ax.plot(transformed_square[:, 0], transformed_square[:, 1], \n",
    "            'r-', label='Transformed', linewidth=2)\n",
    "    \n",
    "    # Add coordinate axes\n",
    "    ax.axhline(y=0, color='k', linestyle='--', alpha=0.3)\n",
    "    ax.axvline(x=0, color='k', linestyle='--', alpha=0.3)\n",
    "    \n",
    "    # Set plot properties\n",
    "    ax.set_xlim(-3, 3)\n",
    "    ax.set_ylim(-3, 3)\n",
    "    ax.set_aspect('equal')\n",
    "    ax.grid(True, alpha=0.3)\n",
    "    ax.set_title(title)\n",
    "    ax.legend()\n",
    "    \n",
    "    # Display the matrix and its determinant\n",
    "    matrix_str = f\"Matrix = \\n{matrix.round(3)}\\ndet = {np.linalg.det(matrix):.3f}\"\n",
    "    plt.figtext(0.02, 0.02, matrix_str, fontsize=10, family='monospace')\n",
    "    \n",
    "    # Show the plot\n",
    "    plt.show()\n",
    "\n",
    "# Create and display the widgets\n",
    "diagonal_widget = interactive(\n",
    "    plot_sl2_transformation,\n",
    "    transform_type=fixed('diagonal'),\n",
    "    param=widgets.FloatSlider(\n",
    "        min=-2, \n",
    "        max=2, \n",
    "        step=0.1, \n",
    "        value=0,\n",
    "        description='t:',\n",
    "        continuous_update=True\n",
    "    ),\n",
    "    show_grid=widgets.Checkbox(\n",
    "        value=True, \n",
    "        description='Show grid'\n",
    "    )\n",
    ")\n",
    "\n",
    "shear_widget = interactive(\n",
    "    plot_sl2_transformation,\n",
    "    transform_type=fixed('shear'),\n",
    "    param=widgets.FloatSlider(\n",
    "        min=-2, \n",
    "        max=2, \n",
    "        step=0.1, \n",
    "        value=0,\n",
    "        description='t:',\n",
    "        continuous_update=True\n",
    "    ),\n",
    "    show_grid=widgets.Checkbox(\n",
    "        value=True, \n",
    "        description='Show grid'\n",
    "    )\n",
    ")"
   ]
  },
  {
   "cell_type": "code",
   "execution_count": 10,
   "id": "5dae3b34-b03a-45a1-be3c-bf421432be1a",
   "metadata": {
    "editable": false,
    "slideshow": {
     "slide_type": ""
    },
    "tags": []
   },
   "outputs": [
    {
     "name": "stdout",
     "output_type": "stream",
     "text": [
      "SL(2,R) Diagonal Transformation:\n"
     ]
    },
    {
     "data": {
      "application/vnd.jupyter.widget-view+json": {
       "model_id": "a3078b947efa4347938450f6918973ec",
       "version_major": 2,
       "version_minor": 0
      },
      "text/plain": [
       "interactive(children=(FloatSlider(value=0.0, description='t:', max=2.0, min=-2.0), Checkbox(value=True, descri…"
      ]
     },
     "metadata": {},
     "output_type": "display_data"
    },
    {
     "name": "stdout",
     "output_type": "stream",
     "text": [
      "\n",
      "SL(2,R) Shear Transformation:\n"
     ]
    },
    {
     "data": {
      "application/vnd.jupyter.widget-view+json": {
       "model_id": "d176f85221654e978aa457eee13f0911",
       "version_major": 2,
       "version_minor": 0
      },
      "text/plain": [
       "interactive(children=(FloatSlider(value=0.0, description='t:', max=2.0, min=-2.0), Checkbox(value=True, descri…"
      ]
     },
     "metadata": {},
     "output_type": "display_data"
    }
   ],
   "source": [
    "\n",
    "# Display the widgets in separate cells\n",
    "print(\"SL(2,R) Diagonal Transformation:\")\n",
    "display(diagonal_widget)\n",
    "\n",
    "print(\"\\nSL(2,R) Shear Transformation:\")\n",
    "display(shear_widget)"
   ]
  },
  {
   "cell_type": "markdown",
   "id": "f84e60c6-08b7-4dc4-8c8a-2b428397993c",
   "metadata": {
    "editable": false,
    "slideshow": {
     "slide_type": ""
    },
    "tags": []
   },
   "source": [
    "# Summary & Further Exploration\n",
    "In this notebook, we explored:\n",
    "\n",
    "**The structure of matrix Lie groups** like $GL(n, \\mathbb{R})$, $SL(n, \\mathbb{R})$, and $SO(n)$.  \n",
    "**The definition and properties of the matrix exponential**.  \n",
    "**Numerical methods for computing $e^A$** and visualizing its effects.  \n",
    "**How different matrix types (skew-symmetric, nilpotent, diagonal) exponentiate uniquely**.\n",
    "\n",
    "### Next Steps:\n",
    "- Try **modifying the matrices** in our examples to see how $e^A$ changes!\n",
    "- Consider **other numerical methods** beyond `scipy.linalg.expm`.\n",
    "- Think about **how this generalizes** to Lie algebras in later lectures.\n",
    "\n",
    "Understanding the matrix exponential is a fundamental step in **Lie theory, differential equations, and quantum mechanics**. Keep exploring!"
   ]
  },
  {
   "cell_type": "markdown",
   "id": "ff02809c-696d-401a-ad5a-24f0ea00ec69",
   "metadata": {},
   "source": [
    "![QF-Mission](https://quantumformalism.academy/img/qf-down.png)"
   ]
  },
  {
   "cell_type": "markdown",
   "id": "363d7791-983c-449c-9682-802a2a688468",
   "metadata": {
    "editable": false,
    "slideshow": {
     "slide_type": ""
    },
    "tags": []
   },
   "source": [
    "**Copyright © 2025 Quantum Formalism Academy. All rights reserved.**\n",
    "\n",
    "This notebook is a product of **Quantum Formalism Academy** and is intended for educational purposes. Redistribution, modification, or commercial use of this material without prior written permission from Quantum Formalism is prohibited."
   ]
  }
 ],
 "metadata": {
  "kernelspec": {
   "display_name": "Python (miniforge3)",
   "language": "python",
   "name": "miniforge3"
  },
  "language_info": {
   "codemirror_mode": {
    "name": "ipython",
    "version": 3
   },
   "file_extension": ".py",
   "mimetype": "text/x-python",
   "name": "python",
   "nbconvert_exporter": "python",
   "pygments_lexer": "ipython3",
   "version": "3.12.7"
  }
 },
 "nbformat": 4,
 "nbformat_minor": 5
}
